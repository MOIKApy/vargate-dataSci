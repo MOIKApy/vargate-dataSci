{
 "cells": [
  {
   "cell_type": "code",
   "execution_count": 35,
   "metadata": {},
   "outputs": [],
   "source": [
    "import sqlite3 as sql3  # Importing SQLITE\n",
    "\n",
    "# IMPORTING PACKAGES FOR PROJECT\n",
    "import matplotlib.dates as matdates\n",
    "import matplotlib.pyplot as plt\n",
    "import numpy as np\n",
    "import pandas as pd\n",
    "import plotly.graph_objs as go\n",
    "import plotly.plotly as py\n",
    "import seaborn as sns\n",
    "from pandas.tools.plotting import table"
   ]
  },
  {
   "cell_type": "code",
   "execution_count": 36,
   "metadata": {},
   "outputs": [],
   "source": [
    "# DB INFO\n",
    "db = 'cryptoGG'\n",
    "con = sql3.connect('./db/cryptoGG.db')"
   ]
  },
  {
   "cell_type": "code",
   "execution_count": 37,
   "metadata": {},
   "outputs": [],
   "source": [
    "# Seaborn colors\n",
    "color = sns.color_palette()\n",
    "# set up plotting inside a Jupyter notebook\n",
    "%matplotlib inline"
   ]
  },
  {
   "cell_type": "code",
   "execution_count": 38,
   "metadata": {},
   "outputs": [],
   "source": [
    "# Pandas options\n",
    "pd.options.mode.chained_assignment = None\n",
    "pd.options.display.max_columns = 999"
   ]
  },
  {
   "cell_type": "code",
   "execution_count": 39,
   "metadata": {},
   "outputs": [
    {
     "ename": "NameError",
     "evalue": "name 'df' is not defined",
     "output_type": "error",
     "traceback": [
      "\u001b[1;31m-------------------------------------------------------\u001b[0m",
      "\u001b[1;31mNameError\u001b[0m             Traceback (most recent call last)",
      "\u001b[1;32m<ipython-input-39-cc553a8ca665>\u001b[0m in \u001b[0;36m<module>\u001b[1;34m()\u001b[0m\n\u001b[0;32m     32\u001b[0m \u001b[1;33m\u001b[0m\u001b[0m\n\u001b[0;32m     33\u001b[0m \u001b[1;31m# SENDS DF TO SQL\u001b[0m\u001b[1;33m\u001b[0m\u001b[1;33m\u001b[0m\u001b[0m\n\u001b[1;32m---> 34\u001b[1;33m df.to_sql(db, con, schema=None, if_exists='replace',\n\u001b[0m\u001b[0;32m     35\u001b[0m           index=False, index_label=None, chunksize=None, dtype=None)\n\u001b[0;32m     36\u001b[0m \u001b[1;33m\u001b[0m\u001b[0m\n",
      "\u001b[1;31mNameError\u001b[0m: name 'df' is not defined"
     ]
    }
   ],
   "source": [
    "# Files Uploaded to the DB\n",
    "files = [\"bitcoin_price.csv\", \"ethereum_price.csv\", \"ripple_price.csv\"]\n",
    "def merge_files(files):  # MERGE FILES\n",
    "    cols = []\n",
    "    for i, file_name in enumerate(files):\n",
    "        # data = file_name.split(\".\")[0]\n",
    "        if i == 0:\n",
    "            df = pd.read_csv(\n",
    "                \"./data/\" + file_name,\n",
    "                usecols=[\"Date\", \"Open\", \"High\", \"Low\",\n",
    "                         \"Close\", \"Volume\", \"Market Cap\"],\n",
    "                parse_dates=[\"Date\"])\n",
    "            df.columns = [\"Date\", \"Open\", \"High\",\n",
    "                          \"Low\", \"Close\", \"Volume\", \"Market Cap\"]\n",
    "            # df.head()\n",
    "        else:\n",
    "            temp_df = pd.read_csv(\n",
    "                \"./data/\" + file_name,\n",
    "                usecols=[\"Date\", \"Open\", \"High\", \"Low\",\n",
    "                         \"Close\", \"Volume\", \"Market Cap\"],\n",
    "                parse_dates=[\"Date\"])\n",
    "            temp_df.columns = [\"Date\", \"Open\", \"High\",\n",
    "                               \"Low\", \"Close\", \"Volume\", \"Market Cap\"]\n",
    "            df = pd.merge(df, temp_df, on=[\"Date\"])\n",
    "            # df.head()\n",
    "        # cols.append(data)\n",
    "\n",
    "\n",
    "def run_query(query):  # CALLS DB\n",
    "    return pd.read_sql_query(query, db)\n",
    "\n",
    "\n",
    "# SENDS DF TO SQL\n",
    "df.to_sql(db, con, schema=None, if_exists='replace',\n",
    "          index=False, index_label=None, chunksize=None, dtype=None)\n",
    "\n",
    "\n",
    "# Heat Map\n",
    "def close_heatmap(e):\n",
    "    sql = \"\"\"\n",
    "    SELECT Date,\n",
    "    Close_x AS 'Bitcoin Close',\n",
    "    Close_y AS 'Ethereum Close',\n",
    "    Close AS 'Ripple Close'\n",
    "    FROM cryptoGG\n",
    "    WHERE Date>='2017-01-01 00:00:00'\n",
    "    \"\"\"\n",
    "\n",
    "    df = pd.read_sql(sql, con)\n",
    "\n",
    "    corrmat = df.corr(method=\"spearman\")\n",
    "    fig, ax = plt.subplots(figsize=(10, 10))\n",
    "    sns.heatmap(corrmat, vmax=1.0, square=True)\n",
    "    plt.title(\"Cryptocurrency Heat Map: January 1st, 2017 - Present\", fontsize=16)\n",
    "    plt.show()\n",
    "\n",
    "\n",
    "# Create a Pie Chart\n",
    "def close_avg_pie(e):\n",
    "\n",
    "    sql = \"\"\"\n",
    "    SELECT Date,\n",
    "    Close_x AS 'Bitcoin Close',\n",
    "    Close_y AS 'Ethereum Close',\n",
    "    Close AS 'Ripple Close'\n",
    "    FROM cryptoGG\n",
    "    WHERE Date>='2017-01-01 00:00:00'\n",
    "    \"\"\"\n",
    "\n",
    "    df = pd.read_sql(sql, con)\n",
    "\n",
    "    bitcoin_avg = df['Bitcoin Close'].mean()\n",
    "    ethereum_avg = df['Ethereum Close'].mean()\n",
    "    ripple_avg = df['Ripple Close'].mean()\n",
    "\n",
    "    labels = ['Bitcoin', 'Ethereum', 'Ripple']\n",
    "    values = [bitcoin_avg, ethereum_avg, ripple_avg]\n",
    "    colors = ['gold', 'yellowgreen', 'red']\n",
    "    explode = (0, 0, 0.1)  # explode 1st slice\n",
    "\n",
    "    # Plot\n",
    "    plt.pie(values, explode=explode, labels=labels, colors=colors,\n",
    "            autopct='%1.1f%%', shadow=True, startangle=140)\n",
    "\n",
    "    plt.axis('equal')\n",
    "    plt.title(\n",
    "        \"Cryptocurrency Close Average: January 1st, 2017 - Present\", fontsize=16)\n",
    "    plt.show()\n",
    "\n",
    "\n",
    "# Function Calls\n",
    "# MERGES FILES\n",
    "merge_files(files)\n",
    "# Creates Heat Map\n",
    "close_heatmap(df)\n",
    "# Creates Pie Chart of Close Avg\n",
    "close_avg_pie(df)\n"
   ]
  },
  {
   "cell_type": "code",
   "execution_count": 23,
   "metadata": {},
   "outputs": [],
   "source": []
  },
  {
   "cell_type": "code",
   "execution_count": 24,
   "metadata": {},
   "outputs": [
    {
     "ename": "NameError",
     "evalue": "name 'df' is not defined",
     "output_type": "error",
     "traceback": [
      "\u001b[1;31m-------------------------------------------------------\u001b[0m",
      "\u001b[1;31mNameError\u001b[0m             Traceback (most recent call last)",
      "\u001b[1;32m<ipython-input-24-c69af0a255ca>\u001b[0m in \u001b[0;36m<module>\u001b[1;34m()\u001b[0m\n\u001b[1;32m----> 1\u001b[1;33m df.to_sql(db, con, schema=None, if_exists='replace',\n\u001b[0m\u001b[0;32m      2\u001b[0m           index=False, index_label=None, chunksize=None, dtype=None)\n",
      "\u001b[1;31mNameError\u001b[0m: name 'df' is not defined"
     ]
    }
   ],
   "source": []
  },
  {
   "cell_type": "code",
   "execution_count": 25,
   "metadata": {},
   "outputs": [],
   "source": []
  },
  {
   "cell_type": "code",
   "execution_count": 26,
   "metadata": {},
   "outputs": [],
   "source": []
  },
  {
   "cell_type": "code",
   "execution_count": 28,
   "metadata": {},
   "outputs": [
    {
     "ename": "NameError",
     "evalue": "name 'df' is not defined",
     "output_type": "error",
     "traceback": [
      "\u001b[1;31m-------------------------------------------------------\u001b[0m",
      "\u001b[1;31mNameError\u001b[0m             Traceback (most recent call last)",
      "\u001b[1;32m<ipython-input-28-36f5f16e7345>\u001b[0m in \u001b[0;36m<module>\u001b[1;34m()\u001b[0m\n\u001b[0;32m      3\u001b[0m \u001b[0mmerge_files\u001b[0m\u001b[1;33m(\u001b[0m\u001b[0mfiles\u001b[0m\u001b[1;33m)\u001b[0m\u001b[1;33m\u001b[0m\u001b[0m\n\u001b[0;32m      4\u001b[0m \u001b[1;31m# Creates Heat Map\u001b[0m\u001b[1;33m\u001b[0m\u001b[1;33m\u001b[0m\u001b[0m\n\u001b[1;32m----> 5\u001b[1;33m \u001b[0mclose_heatmap\u001b[0m\u001b[1;33m(\u001b[0m\u001b[0mdf\u001b[0m\u001b[1;33m)\u001b[0m\u001b[1;33m\u001b[0m\u001b[0m\n\u001b[0m\u001b[0;32m      6\u001b[0m \u001b[1;31m# Creates Pie Chart of Close Avg\u001b[0m\u001b[1;33m\u001b[0m\u001b[1;33m\u001b[0m\u001b[0m\n\u001b[0;32m      7\u001b[0m \u001b[0mclose_avg_pie\u001b[0m\u001b[1;33m(\u001b[0m\u001b[0mdf\u001b[0m\u001b[1;33m)\u001b[0m\u001b[1;33m\u001b[0m\u001b[0m\n",
      "\u001b[1;31mNameError\u001b[0m: name 'df' is not defined"
     ]
    }
   ],
   "source": []
  },
  {
   "cell_type": "code",
   "execution_count": null,
   "metadata": {},
   "outputs": [],
   "source": []
  },
  {
   "cell_type": "code",
   "execution_count": null,
   "metadata": {},
   "outputs": [],
   "source": []
  },
  {
   "cell_type": "code",
   "execution_count": null,
   "metadata": {},
   "outputs": [],
   "source": []
  }
 ],
 "metadata": {
  "kernelspec": {
   "display_name": "Python 3",
   "language": "python",
   "name": "python3"
  },
  "language_info": {
   "codemirror_mode": {
    "name": "ipython",
    "version": 3
   },
   "file_extension": ".py",
   "mimetype": "text/x-python",
   "name": "python",
   "nbconvert_exporter": "python",
   "pygments_lexer": "ipython3",
   "version": "3.6.4"
  }
 },
 "nbformat": 4,
 "nbformat_minor": 2
}
