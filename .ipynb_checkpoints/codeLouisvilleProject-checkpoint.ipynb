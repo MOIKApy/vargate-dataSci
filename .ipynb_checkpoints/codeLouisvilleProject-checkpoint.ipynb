{
 "cells": [
  {
   "cell_type": "code",
   "execution_count": 25,
   "metadata": {},
   "outputs": [],
   "source": [
    "import sqlite3 as sql3  # Importing SQLITE\n",
    "\n",
    "import matplotlib.dates as matdates\n",
    "import matplotlib.pyplot as plt\n",
    "import numpy as np\n",
    "import pandas as pd\n",
    "import seaborn as sns"
   ]
  },
  {
   "cell_type": "code",
   "execution_count": 26,
   "metadata": {},
   "outputs": [],
   "source": [
    "db = 'cryptoGG'\n",
    "con = sql3.connect('./db/cryptoGG.db')\n",
    "color = sns.color_palette()\n",
    "\n",
    "# set up plotting inside a Jupyter notebook\n",
    "%matplotlib inline\n",
    "\n",
    "# Pandas options\n",
    "pd.options.mode.chained_assignment = None\n",
    "pd.options.display.max_columns = 999"
   ]
  },
  {
   "cell_type": "code",
   "execution_count": 27,
   "metadata": {},
   "outputs": [
    {
     "ename": "SyntaxError",
     "evalue": "invalid syntax (<ipython-input-27-38d1888b9451>, line 6)",
     "output_type": "error",
     "traceback": [
      "\u001b[1;36m  File \u001b[1;32m\"<ipython-input-27-38d1888b9451>\"\u001b[1;36m, line \u001b[1;32m6\u001b[0m\n\u001b[1;33m    def get_close:\u001b[0m\n\u001b[1;37m                 ^\u001b[0m\n\u001b[1;31mSyntaxError\u001b[0m\u001b[1;31m:\u001b[0m invalid syntax\n"
     ]
    }
   ],
   "source": [
    "# Files Uploaded to the DB\n",
    "files = [\"bitcoin_price.csv\", \"ethereum_price.csv\", \"ripple_price.csv\"]\n",
    "# File Container\n",
    "cols = []\n",
    "\n",
    "def get_close(files):\n",
    "    for i, file_name in enumerate(files):\n",
    "        data = file_name.split(\".\")[0]\n",
    "\n",
    "        if i == 0:\n",
    "            df = pd.read_csv(\"./data/\" + file_name,\n",
    "                             usecols=[\"Date\", \"Close\"], parse_dates=[\"Date\"])\n",
    "            df.columns = [\"Date\", data]\n",
    "            # df.head()\n",
    "        else:\n",
    "            temp_df = pd.read_csv(\"./data/\" + file_name,\n",
    "                                  usecols=[\"Date\", \"Close\"], parse_dates=[\"Date\"])\n",
    "            temp_df.columns = [\"Date\", data]\n",
    "            df = pd.merge(df, temp_df, on=[\"Date\"])\n",
    "            # df.head()\n",
    "        cols.append(data)\n",
    "    return df"
   ]
  },
  {
   "cell_type": "code",
   "execution_count": 18,
   "metadata": {},
   "outputs": [
    {
     "data": {
      "image/png": "[encoded data removed]",
      "text/plain": [
       "<matplotlib.figure.Figure at 0x181eca124e0>"
      ]
     },
     "metadata": {},
     "output_type": "display_data"
    }
   ],
   "source": [
    "# Populats Database\n",
    "\n",
    "def run_query(query):\n",
    "    return pd.read_sql_query(query, db)\n",
    "df.to_sql(db, con, schema=None, if_exists='replace',\n",
    "          index=False, index_label=None, chunksize=None, dtype=None)"
   ]
  },
  {
   "cell_type": "code",
   "execution_count": null,
   "metadata": {},
   "outputs": [],
   "source": [
    "# Heat Map\n",
    "\n",
    "def heatmap(e):\n",
    "\n",
    "    # Query\n",
    "    sql = \"\"\"\n",
    "    SELECT Date,\n",
    "    bitcoin_price AS 'Bitcoin Close',\n",
    "    ethereum_price AS 'Ethereum Close',\n",
    "    ripple_price AS 'Ripple Close'\n",
    "    FROM cryptoGG\n",
    "    WHERE Date>='2017-01-05 00:00:00'\n",
    "    \"\"\"\n",
    "\n",
    "    df = pd.read_sql(sql, con)\n",
    "    \n",
    "\n",
    "    # GENERATING A HEATMAP\n",
    "    corrmat = df.corr(method=\"spearman\")\n",
    "    fig, ax = plt.subplots(figsize=(10, 10))\n",
    "    sns.heatmap(corrmat, vmax=1., square=True)\n",
    "    plt.title(\"Cryptocurrency Heat Map: Close Jan 2017 - Present\", fontsize=16)\n",
    "    plt.show()\n",
    "    # END\n",
    "\n",
    "heatmap(files)"
   ]
  },
  {
   "cell_type": "code",
   "execution_count": null,
   "metadata": {},
   "outputs": [],
   "source": []
  }
 ],
 "metadata": {
  "kernelspec": {
   "display_name": "Python 3",
   "language": "python",
   "name": "python3"
  },
  "language_info": {
   "codemirror_mode": {
    "name": "ipython",
    "version": 3
   },
   "file_extension": ".py",
   "mimetype": "text/x-python",
   "name": "python",
   "nbconvert_exporter": "python",
   "pygments_lexer": "ipython3",
   "version": "3.6.3"
  }
 },
 "nbformat": 4,
 "nbformat_minor": 2
}
